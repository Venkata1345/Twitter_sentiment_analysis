{
 "cells": [
  {
   "cell_type": "markdown",
   "metadata": {
    "id": "rwYKk7WPsMbh"
   },
   "source": [
    "# Twitter Sentiment Analysis using Python:\n",
    "This is a program that fetches tweets from Twitter for the purpose of Sentiment Analysis."
   ]
  },
  {
   "cell_type": "code",
   "execution_count": null,
   "metadata": {},
   "outputs": [],
   "source": []
  },
  {
   "cell_type": "markdown",
   "metadata": {
    "id": "a89A16f4spFv"
   },
   "source": [
    "---\n",
    "---"
   ]
  },
  {
   "cell_type": "markdown",
   "metadata": {
    "id": "r6Lo2evessSC"
   },
   "source": [
    "### Importing the Libraries"
   ]
  },
  {
   "cell_type": "code",
   "execution_count": 1,
   "metadata": {
    "id": "uq7yBFxkr_WE"
   },
   "outputs": [],
   "source": [
    "import tweepy\n",
    "from textblob import TextBlob\n",
    "import pandas as pd\n",
    "import re\n",
    "from matplotlib.pyplot import xlabel, ylabel"
   ]
  },
  {
   "cell_type": "markdown",
   "metadata": {
    "id": "y526ZyAOZ5RF"
   },
   "source": [
    "---"
   ]
  },
  {
   "cell_type": "markdown",
   "metadata": {
    "id": "UeMZTSPgZzac"
   },
   "source": [
    "### Twitter API Credentials"
   ]
  },
  {
   "cell_type": "code",
   "execution_count": 2,
   "metadata": {
    "id": "Le_rNFdrZv2Q"
   },
   "outputs": [],
   "source": [
    "log = pd.read_csv(\"auth1.csv\")\n",
    "\n",
    "consumerKey = log['key'][0]\n",
    "consumerSecret = log['key'][1]\n",
    "accessToken = log['key'][2]\n",
    "accessTokenSecret = log['key'][3]"
   ]
  },
  {
   "cell_type": "markdown",
   "metadata": {
    "id": "T1kdeLRnaDns"
   },
   "source": [
    "---"
   ]
  },
  {
   "cell_type": "markdown",
   "metadata": {
    "id": "af-iVgboafBU"
   },
   "source": [
    "### Authentication"
   ]
  },
  {
   "cell_type": "code",
   "execution_count": 3,
   "metadata": {
    "id": "sYtXRHr-aEuo"
   },
   "outputs": [],
   "source": [
    "authenticate = tweepy.OAuthHandler(consumerKey, consumerSecret)\n",
    "authenticate.set_access_token(accessToken, accessTokenSecret)"
   ]
  },
  {
   "cell_type": "markdown",
   "metadata": {
    "id": "TUq3vo7caotU"
   },
   "source": [
    "---"
   ]
  },
  {
   "cell_type": "markdown",
   "metadata": {
    "id": "ZdAKBGJ5aplr"
   },
   "source": [
    "### Creating the API & Creating a Dataframe of Tweets"
   ]
  },
  {
   "cell_type": "code",
   "execution_count": 4,
   "metadata": {
    "id": "OW2FjPBpatlD"
   },
   "outputs": [],
   "source": [
    "api = tweepy.API(authenticate, wait_on_rate_limit = True)"
   ]
  },
  {
   "cell_type": "markdown",
   "metadata": {
    "id": "7_jpZ5rhoIQw"
   },
   "source": [
    "---"
   ]
  },
  {
   "cell_type": "markdown",
   "metadata": {
    "id": "_rkkhwV1oIQx"
   },
   "source": [
    "### Defining General Functions"
   ]
  },
  {
   "cell_type": "markdown",
   "metadata": {
    "id": "fEgqlvq5oIQx"
   },
   "source": [
    "Cleaning the Tweets"
   ]
  },
  {
   "cell_type": "code",
   "execution_count": 5,
   "metadata": {
    "id": "fw-y4VEPoIQy"
   },
   "outputs": [],
   "source": [
    "def cleanTweet(tweet):\n",
    "    tweet = re.sub(r'@[A-Za-z0-9]+', '', tweet) # Removing the @mentions\n",
    "    tweet = re.sub(r'#', '', tweet) # Removing the # symbols\n",
    "    tweet = re.sub(r'RT[\\s]+', '', tweet) # Removing RT i.e. ReTweets\n",
    "    tweet = re.sub(r'https?:\\/\\/\\S+', '', tweet) # Removing Hyperlinks\n",
    "    return tweet"
   ]
  },
  {
   "cell_type": "markdown",
   "metadata": {
    "id": "PUP9INikoIQy"
   },
   "source": [
    "Getting Subjectivity and Polarity for Tweets and Assigning them to the Dataframe"
   ]
  },
  {
   "cell_type": "code",
   "execution_count": 6,
   "metadata": {
    "id": "Zh3FCIpdoIQz"
   },
   "outputs": [],
   "source": [
    "def getSubjectivity(tweet):\n",
    "    return TextBlob(tweet).sentiment.subjectivity\n",
    "\n",
    "def getPolarity(tweet):\n",
    "    return TextBlob(tweet).sentiment.polarity"
   ]
  },
  {
   "cell_type": "markdown",
   "metadata": {
    "id": "Ab-21dmHoIQz"
   },
   "source": [
    "Computing and Performing a Postive, Neutral and Negetive Analysis for the Tweets"
   ]
  },
  {
   "cell_type": "code",
   "execution_count": 7,
   "metadata": {
    "id": "ijYa2stZoIQ0"
   },
   "outputs": [],
   "source": [
    "def getAnalysis(score):\n",
    "    if score<0:\n",
    "        return 'Negetive'\n",
    "    elif score==0:\n",
    "        return 'Neutral'\n",
    "    else:\n",
    "        return 'Positive'"
   ]
  },
  {
   "cell_type": "markdown",
   "metadata": {
    "id": "vtQXCP5KoIQ0"
   },
   "source": [
    "---"
   ]
  },
  {
   "cell_type": "markdown",
   "metadata": {
    "id": "CiW5kALYoIQ0"
   },
   "source": [
    "### Code for Stock Analysis"
   ]
  },
  {
   "cell_type": "markdown",
   "metadata": {
    "id": "lYUfQsDtoIQ1"
   },
   "source": [
    "Get the Top 10 Gaining and Losing Stocks from the <a href=\"https://www.bseindia.com/markets.html\">BSE India</a> Website"
   ]
  },
  {
   "cell_type": "code",
   "execution_count": 8,
   "metadata": {
    "id": "3wDK9iFRoIQ1"
   },
   "outputs": [],
   "source": [
    "stocks = ['GOOGLE','ADANIGREEN','TCS','PAYTM','MINDTREE','ZOMATO','HCLTECH','YESBANK','DRREDDY','TRIDENT']"
   ]
  },
  {
   "cell_type": "code",
   "execution_count": 9,
   "metadata": {
    "id": "nZJ8NHDtoIQ1",
    "outputId": "ec35488d-0a5b-4ff0-f957-163d3b7f2dbb"
   },
   "outputs": [
    {
     "data": {
      "text/plain": [
       "<AxesSubplot: xlabel='Stocks', ylabel='Number of Tweets'>"
      ]
     },
     "execution_count": 9,
     "metadata": {},
     "output_type": "execute_result"
    },
    {
     "data": {
      "image/png": "[encoded data removed]",
      "text/plain": [
       "<Figure size 640x480 with 1 Axes>"
      ]
     },
     "metadata": {},
     "output_type": "display_data"
    }
   ],
   "source": [
    "positive = []\n",
    "negetive = []\n",
    "for stock in stocks:\n",
    "    posts = api.user_timeline(screen_name=stock, count=100, tweet_mode=\"extended\")\n",
    "    df = pd.DataFrame([tweet.full_text for tweet in posts], columns=[\"Tweets\"])\n",
    "    \n",
    "    df['Tweets'] = df['Tweets'].apply(cleanTweet)\n",
    "    df['Subjectivity'] = df['Tweets'].apply(getSubjectivity)\n",
    "    df['Polarity'] = df['Tweets'].apply(getPolarity)\n",
    "    df['Analysis'] = df['Polarity'].apply(getAnalysis)\n",
    "\n",
    "    positive.append(len(df.loc[df['Analysis'] == 'Positive']))\n",
    "    negetive.append(len(df.loc[df['Analysis'] == 'Negetive']))\n",
    "\n",
    "ndf = pd.DataFrame({'Stocks': stocks, 'Positive': positive, 'Negetive': negetive})\n",
    "ndf.plot(x=\"Stocks\", y=[\"Positive\", \"Negetive\"], kind=\"bar\", xlabel='Stocks', ylabel='Number of Tweets')"
   ]
  },
  {
   "cell_type": "code",
   "execution_count": null,
   "metadata": {},
   "outputs": [],
   "source": []
  }
 ],
 "metadata": {
  "colab": {
   "collapsed_sections": [],
   "name": "Twitter_Sentiment_Analysis.ipynb",
   "provenance": []
  },
  "interpreter": {
   "hash": "3ff43895b006f3564ee26480f96983960bf8841aa8e00451a4df1bc2204d99f4"
  },
  "kernelspec": {
   "display_name": "Python 3",
   "language": "python",
   "name": "python3"
  },
  "language_info": {
   "codemirror_mode": {
    "name": "ipython",
    "version": 3
   },
   "file_extension": ".py",
   "mimetype": "text/x-python",
   "name": "python",
   "nbconvert_exporter": "python",
   "pygments_lexer": "ipython3",
   "version": "3.8.3"
  },
  "vscode": {
   "interpreter": {
    "hash": "11938c6bc6919ae2720b4d5011047913343b08a43b18698fd82dedb0d4417594"
   }
  }
 },
 "nbformat": 4,
 "nbformat_minor": 4
}
